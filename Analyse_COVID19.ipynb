{
 "cells": [
  {
   "cell_type": "code",
   "execution_count": 33,
   "id": "d26ced99",
   "metadata": {},
   "outputs": [],
   "source": [
    "#Importer des packages\n",
    "\n",
    "import pandas as pd\n",
    "import numpy as np\n",
    "import matplotlib.pyplot as plt\n",
    "import plotly.express as px\n",
    "import plotly.graph_objects as go\n",
    "from ipywidgets import interact, widgets"
   ]
  },
  {
   "cell_type": "code",
   "execution_count": 34,
   "id": "27c9bed8",
   "metadata": {
    "scrolled": true
   },
   "outputs": [],
   "source": [
    "#Importer les données\n",
    "\n",
    "confirme_df = pd.read_csv('https://raw.githubusercontent.com/CSSEGISandData/COVID-19/master/csse_covid_19_data/csse_covid_19_time_series/time_series_covid19_confirmed_global.csv')\n",
    "deces_df = pd.read_csv('https://raw.githubusercontent.com/CSSEGISandData/COVID-19/master/csse_covid_19_data/csse_covid_19_time_series/time_series_covid19_deaths_global.csv')\n",
    "retabli_df = pd.read_csv('https://raw.githubusercontent.com/CSSEGISandData/COVID-19/master/csse_covid_19_data/csse_covid_19_time_series/time_series_covid19_recovered_global.csv')\n",
    "pays_df = pd.read_csv('https://raw.githubusercontent.com/CSSEGISandData/COVID-19/web-data/data/cases_country.csv')"
   ]
  },
  {
   "cell_type": "code",
   "execution_count": 35,
   "id": "2cbfc6a4",
   "metadata": {},
   "outputs": [
    {
     "name": "stdout",
     "output_type": "stream",
     "text": [
      "(282, 758)\n",
      "(282, 758)\n",
      "(267, 758)\n",
      "(198, 16)\n"
     ]
    }
   ],
   "source": [
    "#Taille des tableaux\n",
    "\n",
    "print(confirme_df.shape)\n",
    "print(deces_df.shape)\n",
    "print(retabli_df.shape)\n",
    "print(pays_df.shape)"
   ]
  },
  {
   "cell_type": "code",
   "execution_count": 36,
   "id": "4c37fe04",
   "metadata": {},
   "outputs": [
    {
     "data": {
      "text/html": [
       "<div>\n",
       "<style scoped>\n",
       "    .dataframe tbody tr th:only-of-type {\n",
       "        vertical-align: middle;\n",
       "    }\n",
       "\n",
       "    .dataframe tbody tr th {\n",
       "        vertical-align: top;\n",
       "    }\n",
       "\n",
       "    .dataframe thead th {\n",
       "        text-align: right;\n",
       "    }\n",
       "</style>\n",
       "<table border=\"1\" class=\"dataframe\">\n",
       "  <thead>\n",
       "    <tr style=\"text-align: right;\">\n",
       "      <th></th>\n",
       "      <th>Country_Region</th>\n",
       "      <th>Last_Update</th>\n",
       "      <th>Lat</th>\n",
       "      <th>Long_</th>\n",
       "      <th>Confirmed</th>\n",
       "      <th>Deaths</th>\n",
       "      <th>Recovered</th>\n",
       "      <th>Active</th>\n",
       "      <th>Incident_Rate</th>\n",
       "      <th>People_Tested</th>\n",
       "      <th>People_Hospitalized</th>\n",
       "      <th>Mortality_Rate</th>\n",
       "      <th>UID</th>\n",
       "      <th>ISO3</th>\n",
       "      <th>Cases_28_Days</th>\n",
       "      <th>Deaths_28_Days</th>\n",
       "    </tr>\n",
       "  </thead>\n",
       "  <tbody>\n",
       "    <tr>\n",
       "      <th>63</th>\n",
       "      <td>France</td>\n",
       "      <td>2022-02-14 17:20:58</td>\n",
       "      <td>46.2276</td>\n",
       "      <td>2.2137</td>\n",
       "      <td>21855090</td>\n",
       "      <td>135802</td>\n",
       "      <td>NaN</td>\n",
       "      <td>NaN</td>\n",
       "      <td>33494.471397</td>\n",
       "      <td>NaN</td>\n",
       "      <td>NaN</td>\n",
       "      <td>0.621375</td>\n",
       "      <td>250</td>\n",
       "      <td>FRA</td>\n",
       "      <td>7568233</td>\n",
       "      <td>7862</td>\n",
       "    </tr>\n",
       "  </tbody>\n",
       "</table>\n",
       "</div>"
      ],
      "text/plain": [
       "   Country_Region          Last_Update      Lat   Long_  Confirmed  Deaths  \\\n",
       "63         France  2022-02-14 17:20:58  46.2276  2.2137   21855090  135802   \n",
       "\n",
       "    Recovered  Active  Incident_Rate  People_Tested  People_Hospitalized  \\\n",
       "63        NaN     NaN   33494.471397            NaN                  NaN   \n",
       "\n",
       "    Mortality_Rate  UID ISO3  Cases_28_Days  Deaths_28_Days  \n",
       "63        0.621375  250  FRA        7568233            7862  "
      ]
     },
     "execution_count": 36,
     "metadata": {},
     "output_type": "execute_result"
    }
   ],
   "source": [
    "pays_df[pays_df['Country_Region'] == 'France']"
   ]
  },
  {
   "cell_type": "code",
   "execution_count": 37,
   "id": "299e901d",
   "metadata": {},
   "outputs": [
    {
     "data": {
      "text/html": [
       "<div>\n",
       "<style scoped>\n",
       "    .dataframe tbody tr th:only-of-type {\n",
       "        vertical-align: middle;\n",
       "    }\n",
       "\n",
       "    .dataframe tbody tr th {\n",
       "        vertical-align: top;\n",
       "    }\n",
       "\n",
       "    .dataframe thead th {\n",
       "        text-align: right;\n",
       "    }\n",
       "</style>\n",
       "<table border=\"1\" class=\"dataframe\">\n",
       "  <thead>\n",
       "    <tr style=\"text-align: right;\">\n",
       "      <th></th>\n",
       "      <th>Confirmed</th>\n",
       "      <th>Deaths</th>\n",
       "    </tr>\n",
       "  </thead>\n",
       "  <tbody>\n",
       "    <tr>\n",
       "      <th>0</th>\n",
       "      <td>412582913</td>\n",
       "      <td>5819335</td>\n",
       "    </tr>\n",
       "  </tbody>\n",
       "</table>\n",
       "</div>"
      ],
      "text/plain": [
       "   Confirmed   Deaths\n",
       "0  412582913  5819335"
      ]
     },
     "execution_count": 37,
     "metadata": {},
     "output_type": "execute_result"
    }
   ],
   "source": [
    "#Afficher les statistiques au niveau monde\n",
    "\n",
    "global_data = pays_df.copy().drop(['Country_Region' ,'Last_Update', 'Lat', 'Long_', 'Recovered', 'Active', 'Incident_Rate', 'People_Tested',\n",
    "       'People_Hospitalized', 'Mortality_Rate', 'UID', 'ISO3', 'Cases_28_Days',\n",
    "       'Deaths_28_Days'], axis = 1)\n",
    "\n",
    "global_synthese = pd.DataFrame(global_data.sum()).transpose()\n",
    "global_synthese"
   ]
  },
  {
   "cell_type": "code",
   "execution_count": 40,
   "id": "defef73f",
   "metadata": {},
   "outputs": [
    {
     "data": {
      "application/vnd.jupyter.widget-view+json": {
       "model_id": "7fcc62be26d34131bf747e1dfda73a57",
       "version_major": 2,
       "version_minor": 0
      },
      "text/plain": [
       "interactive(children=(Text(value='10', description='n'), Output()), _dom_classes=('widget-interact',))"
      ]
     },
     "metadata": {},
     "output_type": "display_data"
    },
    {
     "data": {
      "application/vnd.jupyter.widget-view+json": {
       "model_id": "f12d1af03f324367ba56e4e376a901bd",
       "version_major": 2,
       "version_minor": 0
      },
      "text/plain": [
       "VBox(children=(FigureWidget({\n",
       "    'data': [], 'layout': {'template': '...'}\n",
       "}),), layout=Layout(border='solid …"
      ]
     },
     "metadata": {},
     "output_type": "display_data"
    }
   ],
   "source": [
    "#Visuliaser les pays les plus touchés\n",
    "\n",
    "fig = go.FigureWidget(layout = go.Layout())\n",
    "\n",
    "def highlight_colors(x):\n",
    "    red = 'background-color:red'\n",
    "    yellow = 'background-color:yellow'\n",
    "    df1 = pd.DataFrame('', index = x.index, columns = x.columns)\n",
    "    df1.iloc[:,4] = yellow\n",
    "    df1.iloc[:,5] = red\n",
    "    \n",
    "    return df1\n",
    "\n",
    "def show_cases(n):\n",
    "    n = int(n)\n",
    "    \n",
    "    return pays_df.sort_values('Confirmed', ascending = False).head(n).style.apply(highlight_colors, axis = None) \n",
    "\n",
    "interact(show_cases, n = '10')\n",
    "\n",
    "ipywLayout = widgets.Layout(border = 'solid 2px green')\n",
    "ipywLayout.display = 'none'\n",
    "widgets.VBox([fig], layout = ipywLayout)"
   ]
  },
  {
   "cell_type": "code",
   "execution_count": null,
   "id": "a6e9f89a",
   "metadata": {},
   "outputs": [],
   "source": []
  }
 ],
 "metadata": {
  "kernelspec": {
   "display_name": "Python 3 (ipykernel)",
   "language": "python",
   "name": "python3"
  },
  "language_info": {
   "codemirror_mode": {
    "name": "ipython",
    "version": 3
   },
   "file_extension": ".py",
   "mimetype": "text/x-python",
   "name": "python",
   "nbconvert_exporter": "python",
   "pygments_lexer": "ipython3",
   "version": "3.9.7"
  }
 },
 "nbformat": 4,
 "nbformat_minor": 5
}
